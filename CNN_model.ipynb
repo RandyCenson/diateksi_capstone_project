{
 "cells": [
  {
   "cell_type": "code",
   "execution_count": 1,
   "id": "0935f346",
   "metadata": {},
   "outputs": [],
   "source": [
    "import pandas as pd\n",
    "from sklearn.ensemble import RandomForestRegressor\n",
    "import numpy as np\n",
    "from sklearn.preprocessing import StandardScaler\n",
    "from sklearn.cluster import DBSCAN\n",
    "from sklearn.metrics import silhouette_score\n",
    "from sklearn.decomposition import PCA\n",
    "import matplotlib.pyplot as plt\n",
    "import seaborn as sns\n",
    "from sklearn.preprocessing import MinMaxScaler\n",
    "from yellowbrick.cluster import KElbowVisualizer\n",
    "from sklearn.cluster import KMeans\n",
    "from sklearn.feature_selection import VarianceThreshold, SelectKBest, f_classif\n",
    "from sklearn.preprocessing import StandardScaler, LabelEncoder\n",
    "from matplotlib.colors import ListedColormap\n",
    "from sklearn.feature_selection import RFE , f_regression\n",
    "from sklearn.linear_model import LogisticRegression\n",
    "from sklearn.model_selection import train_test_split\n",
    "from sklearn.metrics import accuracy_score, confusion_matrix, classification_report\n",
    "from sklearn.neighbors import KNeighborsClassifier\n",
    "from sklearn.ensemble import RandomForestClassifier\n",
    "from sklearn.linear_model import LogisticRegression\n",
    "from sklearn.svm import SVC\n",
    "from sklearn.preprocessing import RobustScaler\n",
    "from sklearn.metrics import f1_score\n",
    "import joblib"
   ]
  },
  {
   "cell_type": "code",
   "execution_count": 2,
   "id": "642e33e1",
   "metadata": {},
   "outputs": [
    {
     "name": "stdout",
     "output_type": "stream",
     "text": [
      "WARNING:tensorflow:From C:\\Users\\COMPUTER WISA\\AppData\\Local\\Packages\\PythonSoftwareFoundation.Python.3.10_qbz5n2kfra8p0\\LocalCache\\local-packages\\Python310\\site-packages\\keras\\src\\losses.py:2976: The name tf.losses.sparse_softmax_cross_entropy is deprecated. Please use tf.compat.v1.losses.sparse_softmax_cross_entropy instead.\n",
      "\n"
     ]
    }
   ],
   "source": [
    "from imblearn.over_sampling import SMOTE\n",
    "from collections import Counter\n",
    "from sklearn.model_selection import train_test_split\n",
    "from sklearn.preprocessing import RobustScaler\n",
    "from sklearn.metrics import classification_report, confusion_matrix, accuracy_score\n",
    "import tensorflow as tf\n",
    "from tensorflow.keras.models import Sequential\n",
    "import math\n",
    "from tensorflow.keras.callbacks import EarlyStopping\n",
    "from tensorflow.keras.models import load_model\n",
    "from tensorflow.keras.layers import Conv2D, MaxPooling2D, Flatten, Dense, Dropout, InputLayer, Reshape\n",
    "from tensorflow.keras.models import load_model\n",
    "from imblearn.over_sampling import SMOTE\n",
    "from sklearn.model_selection import train_test_split\n",
    "from sklearn.metrics import roc_curve, auc\n",
    "import matplotlib.pyplot as plt"
   ]
  },
  {
   "cell_type": "code",
   "execution_count": 3,
   "id": "fe2d7bc2",
   "metadata": {},
   "outputs": [
    {
     "name": "stdout",
     "output_type": "stream",
     "text": [
      "<class 'pandas.core.frame.DataFrame'>\n",
      "RangeIndex: 3536 entries, 0 to 3535\n",
      "Data columns (total 9 columns):\n",
      " #   Column                    Non-Null Count  Dtype  \n",
      "---  ------                    --------------  -----  \n",
      " 0   Pregnancies               3536 non-null   int64  \n",
      " 1   Glucose                   3536 non-null   int64  \n",
      " 2   BloodPressure             3536 non-null   int64  \n",
      " 3   SkinThickness             3536 non-null   int64  \n",
      " 4   Insulin                   3536 non-null   int64  \n",
      " 5   BMI                       3536 non-null   float64\n",
      " 6   DiabetesPedigreeFunction  3536 non-null   float64\n",
      " 7   Age                       3536 non-null   int64  \n",
      " 8   Outcome                   3536 non-null   int64  \n",
      "dtypes: float64(2), int64(7)\n",
      "memory usage: 248.8 KB\n"
     ]
    }
   ],
   "source": [
    "\n",
    "df_train = pd.read_csv('dataset/Training.csv')\n",
    "df_test = pd.read_csv('dataset/Testing.csv')\n",
    "df_eksternal = pd.read_csv('dataset/data2.csv')\n",
    "df_temp = pd.concat([df_train, df_test], ignore_index=True)\n",
    "df = pd.concat([df_temp, df_eksternal], ignore_index=True)\n",
    "df.info()\n"
   ]
  },
  {
   "cell_type": "code",
   "execution_count": 4,
   "id": "b7da70b8",
   "metadata": {},
   "outputs": [
    {
     "data": {
      "text/plain": [
       "Pregnancies                    0\n",
       "Glucose                       23\n",
       "BloodPressure                163\n",
       "SkinThickness               1037\n",
       "Insulin                     1707\n",
       "BMI                           46\n",
       "DiabetesPedigreeFunction       0\n",
       "Age                            0\n",
       "Outcome                        0\n",
       "dtype: int64"
      ]
     },
     "execution_count": 4,
     "metadata": {},
     "output_type": "execute_result"
    }
   ],
   "source": [
    "# Replace zero with NaN in some columns\n",
    "cols_to_replace = ['Glucose', 'BloodPressure', 'SkinThickness', 'Insulin', 'BMI']\n",
    "df[cols_to_replace] = df[cols_to_replace].replace(0, np.nan)\n",
    "df.isnull().sum()"
   ]
  },
  {
   "cell_type": "code",
   "execution_count": 5,
   "id": "0cadfccb",
   "metadata": {},
   "outputs": [
    {
     "name": "stdout",
     "output_type": "stream",
     "text": [
      "Pregnancies                 0\n",
      "Glucose                     0\n",
      "BloodPressure               0\n",
      "SkinThickness               0\n",
      "Insulin                     0\n",
      "BMI                         0\n",
      "DiabetesPedigreeFunction    0\n",
      "Age                         0\n",
      "Outcome                     0\n",
      "dtype: int64\n"
     ]
    }
   ],
   "source": [
    "# metode interpolate\n",
    "df = df.interpolate(method='linear', limit_direction='both')\n",
    "print(df.isnull().sum())\n",
    "df.dropna(inplace=True)"
   ]
  },
  {
   "cell_type": "code",
   "execution_count": 6,
   "id": "2536fb5c",
   "metadata": {},
   "outputs": [],
   "source": [
    "def remove_outliers_iqr(df, target_column=None):\n",
    "    if target_column:\n",
    "        features = df.drop(columns=[target_column])\n",
    "    else:\n",
    "        features = df.copy()\n",
    "        \n",
    "    Q1 = features.quantile(0.25)\n",
    "    Q3 = features.quantile(0.75)\n",
    "    IQR = Q3 - Q1\n",
    "\n",
    "    # Mask: data yang TIDAK outlier\n",
    "    mask = ~((features < (Q1 - 1.5 * IQR)) | (features > (Q3 + 1.5 * IQR))).any(axis=1)\n",
    "\n",
    "    # Gabungkan kembali kolom target kalau ada\n",
    "    if target_column:\n",
    "        return df.loc[mask]\n",
    "    else:\n",
    "        return features.loc[mask]"
   ]
  },
  {
   "cell_type": "code",
   "execution_count": 7,
   "id": "b3f115c8",
   "metadata": {},
   "outputs": [
    {
     "name": "stdout",
     "output_type": "stream",
     "text": [
      "Data sebelum: 3536\n",
      "Data setelah hapus outlier: 3072\n"
     ]
    }
   ],
   "source": [
    "# Feature and label\n",
    "X = df.drop(\"Outcome\", axis=1)\n",
    "y = df[\"Outcome\"]\n",
    "\n",
    "# Menggabungkan fitur dan target\n",
    "df_full = pd.concat([X, y], axis=1)\n",
    "\n",
    "# Hapus outlier\n",
    "df_no_outlier = remove_outliers_iqr(df_full, target_column=\"Outcome\")\n",
    "\n",
    "# Pisahkan kembali\n",
    "X = df_no_outlier.drop(\"Outcome\", axis=1)\n",
    "y = df_no_outlier[\"Outcome\"]\n",
    "\n",
    "print(f\"Data sebelum: {len(df_full)}\")\n",
    "print(f\"Data setelah hapus outlier: {len(df_no_outlier)}\")\n",
    "\n"
   ]
  },
  {
   "cell_type": "code",
   "execution_count": 8,
   "id": "2e3a071f",
   "metadata": {},
   "outputs": [],
   "source": [
    "# Log transform\n",
    "cols_to_log = [\"Insulin\", \"DiabetesPedigreeFunction\", \"Age\", \"Pregnancies\"]\n",
    "for col in cols_to_log:\n",
    "    X[col] = np.log1p(X[col])\n",
    "\n",
    "# Scaling\n",
    "scaler = RobustScaler()\n",
    "X_scaled = scaler.fit_transform(X)"
   ]
  },
  {
   "cell_type": "code",
   "execution_count": 9,
   "id": "7498ee16",
   "metadata": {},
   "outputs": [],
   "source": [
    "# Reshape for CNN: (samples, height, width, channels)\n",
    "n_features = X.shape[1]\n",
    "target_size = math.ceil(np.sqrt(n_features)) ** 2  # cari kuadrat sempurna terdekat\n",
    "padding_needed = target_size - n_features\n",
    "\n",
    "\n",
    "# Tambahkan kolom dummy\n",
    "for i in range(padding_needed):\n",
    "    X[f'dummy_{i}'] = 0\n",
    "\n",
    "# Normalisasi & reshape\n",
    "X_scaled = scaler.fit_transform(X)\n",
    "side_len = int(math.sqrt(target_size))  # sisi matriks (misal 3 utk 9 fitur)\n",
    "X_reshaped = X_scaled.reshape(-1, side_len, side_len, 1)"
   ]
  },
  {
   "cell_type": "code",
   "execution_count": 10,
   "id": "9c1714e1",
   "metadata": {},
   "outputs": [],
   "source": [
    "# Split data\n",
    "X_train, X_test, y_train, y_test = train_test_split(X_reshaped, y, test_size=0.2, random_state=42)\n"
   ]
  },
  {
   "cell_type": "code",
   "execution_count": 11,
   "id": "e84c1176",
   "metadata": {},
   "outputs": [
    {
     "name": "stdout",
     "output_type": "stream",
     "text": [
      "WARNING:tensorflow:From C:\\Users\\COMPUTER WISA\\AppData\\Local\\Packages\\PythonSoftwareFoundation.Python.3.10_qbz5n2kfra8p0\\LocalCache\\local-packages\\Python310\\site-packages\\keras\\src\\backend.py:1398: The name tf.executing_eagerly_outside_functions is deprecated. Please use tf.compat.v1.executing_eagerly_outside_functions instead.\n",
      "\n",
      "WARNING:tensorflow:From C:\\Users\\COMPUTER WISA\\AppData\\Local\\Packages\\PythonSoftwareFoundation.Python.3.10_qbz5n2kfra8p0\\LocalCache\\local-packages\\Python310\\site-packages\\keras\\src\\layers\\pooling\\max_pooling2d.py:161: The name tf.nn.max_pool is deprecated. Please use tf.nn.max_pool2d instead.\n",
      "\n",
      "WARNING:tensorflow:From C:\\Users\\COMPUTER WISA\\AppData\\Local\\Packages\\PythonSoftwareFoundation.Python.3.10_qbz5n2kfra8p0\\LocalCache\\local-packages\\Python310\\site-packages\\keras\\src\\optimizers\\__init__.py:309: The name tf.train.Optimizer is deprecated. Please use tf.compat.v1.train.Optimizer instead.\n",
      "\n"
     ]
    }
   ],
   "source": [
    "# Build CNN model\n",
    "model = Sequential([\n",
    "    InputLayer(input_shape=(side_len, side_len, 1)),\n",
    "    Conv2D(32, kernel_size=(2, 2), activation='relu'),\n",
    "    MaxPooling2D(pool_size=(1, 1)),\n",
    "    Flatten(),\n",
    "    Dense(64, activation='relu'),\n",
    "    Dropout(0.3),\n",
    "    Dense(1, activation='sigmoid')\n",
    "])\n",
    "\n",
    "early_stop = EarlyStopping(\n",
    "    monitor='val_accuracy',    \n",
    "    patience=5,             \n",
    "    restore_best_weights=True\n",
    ")\n",
    "model.compile(optimizer='adam', loss='binary_crossentropy', metrics=['accuracy'])"
   ]
  },
  {
   "cell_type": "code",
   "execution_count": 12,
   "id": "c3344d9b",
   "metadata": {},
   "outputs": [
    {
     "name": "stdout",
     "output_type": "stream",
     "text": [
      "Epoch 1/100\n",
      "WARNING:tensorflow:From C:\\Users\\COMPUTER WISA\\AppData\\Local\\Packages\\PythonSoftwareFoundation.Python.3.10_qbz5n2kfra8p0\\LocalCache\\local-packages\\Python310\\site-packages\\keras\\src\\utils\\tf_utils.py:492: The name tf.ragged.RaggedTensorValue is deprecated. Please use tf.compat.v1.ragged.RaggedTensorValue instead.\n",
      "\n",
      "WARNING:tensorflow:From C:\\Users\\COMPUTER WISA\\AppData\\Local\\Packages\\PythonSoftwareFoundation.Python.3.10_qbz5n2kfra8p0\\LocalCache\\local-packages\\Python310\\site-packages\\keras\\src\\engine\\base_layer_utils.py:384: The name tf.executing_eagerly_outside_functions is deprecated. Please use tf.compat.v1.executing_eagerly_outside_functions instead.\n",
      "\n",
      "123/123 [==============================] - 1s 4ms/step - loss: 0.5436 - accuracy: 0.7191 - val_loss: 0.4589 - val_accuracy: 0.7622\n",
      "Epoch 2/100\n",
      "123/123 [==============================] - 0s 2ms/step - loss: 0.4850 - accuracy: 0.7542 - val_loss: 0.4593 - val_accuracy: 0.7439\n",
      "Epoch 3/100\n",
      "123/123 [==============================] - 0s 2ms/step - loss: 0.4735 - accuracy: 0.7618 - val_loss: 0.4585 - val_accuracy: 0.7398\n",
      "Epoch 4/100\n",
      "123/123 [==============================] - 0s 2ms/step - loss: 0.4678 - accuracy: 0.7654 - val_loss: 0.4471 - val_accuracy: 0.7703\n",
      "Epoch 5/100\n",
      "123/123 [==============================] - 0s 2ms/step - loss: 0.4594 - accuracy: 0.7669 - val_loss: 0.4479 - val_accuracy: 0.7581\n",
      "Epoch 6/100\n",
      "123/123 [==============================] - 0s 2ms/step - loss: 0.4559 - accuracy: 0.7746 - val_loss: 0.4453 - val_accuracy: 0.7703\n",
      "Epoch 7/100\n",
      "123/123 [==============================] - 0s 2ms/step - loss: 0.4519 - accuracy: 0.7710 - val_loss: 0.4365 - val_accuracy: 0.7663\n",
      "Epoch 8/100\n",
      "123/123 [==============================] - 0s 2ms/step - loss: 0.4427 - accuracy: 0.7868 - val_loss: 0.4333 - val_accuracy: 0.7785\n",
      "Epoch 9/100\n",
      "123/123 [==============================] - 0s 2ms/step - loss: 0.4411 - accuracy: 0.7858 - val_loss: 0.4300 - val_accuracy: 0.7805\n",
      "Epoch 10/100\n",
      "123/123 [==============================] - 0s 2ms/step - loss: 0.4275 - accuracy: 0.7964 - val_loss: 0.4273 - val_accuracy: 0.7703\n",
      "Epoch 11/100\n",
      "123/123 [==============================] - 0s 2ms/step - loss: 0.4201 - accuracy: 0.7980 - val_loss: 0.4153 - val_accuracy: 0.7825\n",
      "Epoch 12/100\n",
      "123/123 [==============================] - 0s 2ms/step - loss: 0.4133 - accuracy: 0.8036 - val_loss: 0.4094 - val_accuracy: 0.7927\n",
      "Epoch 13/100\n",
      "123/123 [==============================] - 0s 2ms/step - loss: 0.4096 - accuracy: 0.8122 - val_loss: 0.4030 - val_accuracy: 0.7967\n",
      "Epoch 14/100\n",
      "123/123 [==============================] - 0s 2ms/step - loss: 0.3984 - accuracy: 0.8178 - val_loss: 0.4004 - val_accuracy: 0.7947\n",
      "Epoch 15/100\n",
      "123/123 [==============================] - 0s 2ms/step - loss: 0.3948 - accuracy: 0.8142 - val_loss: 0.3904 - val_accuracy: 0.8130\n",
      "Epoch 16/100\n",
      "123/123 [==============================] - 0s 2ms/step - loss: 0.3867 - accuracy: 0.8265 - val_loss: 0.3851 - val_accuracy: 0.8333\n",
      "Epoch 17/100\n",
      "123/123 [==============================] - 0s 2ms/step - loss: 0.3800 - accuracy: 0.8290 - val_loss: 0.3793 - val_accuracy: 0.8232\n",
      "Epoch 18/100\n",
      "123/123 [==============================] - 0s 2ms/step - loss: 0.3716 - accuracy: 0.8392 - val_loss: 0.3737 - val_accuracy: 0.8374\n",
      "Epoch 19/100\n",
      "123/123 [==============================] - 0s 2ms/step - loss: 0.3691 - accuracy: 0.8321 - val_loss: 0.3672 - val_accuracy: 0.8354\n",
      "Epoch 20/100\n",
      "123/123 [==============================] - 0s 2ms/step - loss: 0.3601 - accuracy: 0.8422 - val_loss: 0.3554 - val_accuracy: 0.8374\n",
      "Epoch 21/100\n",
      "123/123 [==============================] - 0s 2ms/step - loss: 0.3544 - accuracy: 0.8473 - val_loss: 0.3497 - val_accuracy: 0.8333\n",
      "Epoch 22/100\n",
      "123/123 [==============================] - 0s 2ms/step - loss: 0.3421 - accuracy: 0.8519 - val_loss: 0.3566 - val_accuracy: 0.8374\n",
      "Epoch 23/100\n",
      "123/123 [==============================] - 0s 2ms/step - loss: 0.3342 - accuracy: 0.8570 - val_loss: 0.3355 - val_accuracy: 0.8496\n",
      "Epoch 24/100\n",
      "123/123 [==============================] - 0s 2ms/step - loss: 0.3304 - accuracy: 0.8580 - val_loss: 0.3301 - val_accuracy: 0.8537\n",
      "Epoch 25/100\n",
      "123/123 [==============================] - 0s 2ms/step - loss: 0.3204 - accuracy: 0.8601 - val_loss: 0.3360 - val_accuracy: 0.8659\n",
      "Epoch 26/100\n",
      "123/123 [==============================] - 0s 2ms/step - loss: 0.3197 - accuracy: 0.8646 - val_loss: 0.3264 - val_accuracy: 0.8537\n",
      "Epoch 27/100\n",
      "123/123 [==============================] - 0s 2ms/step - loss: 0.3121 - accuracy: 0.8733 - val_loss: 0.3236 - val_accuracy: 0.8638\n",
      "Epoch 28/100\n",
      "123/123 [==============================] - 0s 2ms/step - loss: 0.3115 - accuracy: 0.8768 - val_loss: 0.3160 - val_accuracy: 0.8740\n",
      "Epoch 29/100\n",
      "123/123 [==============================] - 0s 2ms/step - loss: 0.2996 - accuracy: 0.8799 - val_loss: 0.3084 - val_accuracy: 0.8699\n",
      "Epoch 30/100\n",
      "123/123 [==============================] - 0s 2ms/step - loss: 0.2938 - accuracy: 0.8748 - val_loss: 0.3123 - val_accuracy: 0.8780\n",
      "Epoch 31/100\n",
      "123/123 [==============================] - 0s 2ms/step - loss: 0.2913 - accuracy: 0.8799 - val_loss: 0.3096 - val_accuracy: 0.8659\n",
      "Epoch 32/100\n",
      "123/123 [==============================] - 0s 2ms/step - loss: 0.2861 - accuracy: 0.8896 - val_loss: 0.2992 - val_accuracy: 0.8780\n",
      "Epoch 33/100\n",
      "123/123 [==============================] - 0s 2ms/step - loss: 0.2825 - accuracy: 0.8860 - val_loss: 0.3062 - val_accuracy: 0.8801\n",
      "Epoch 34/100\n",
      "123/123 [==============================] - 0s 2ms/step - loss: 0.2796 - accuracy: 0.8870 - val_loss: 0.3026 - val_accuracy: 0.8780\n",
      "Epoch 35/100\n",
      "123/123 [==============================] - 0s 2ms/step - loss: 0.2731 - accuracy: 0.8941 - val_loss: 0.2937 - val_accuracy: 0.8760\n",
      "Epoch 36/100\n",
      "123/123 [==============================] - 0s 2ms/step - loss: 0.2697 - accuracy: 0.8962 - val_loss: 0.2966 - val_accuracy: 0.8801\n",
      "Epoch 37/100\n",
      "123/123 [==============================] - 0s 2ms/step - loss: 0.2573 - accuracy: 0.8952 - val_loss: 0.2887 - val_accuracy: 0.8821\n",
      "Epoch 38/100\n",
      "123/123 [==============================] - 0s 2ms/step - loss: 0.2640 - accuracy: 0.8931 - val_loss: 0.2915 - val_accuracy: 0.8780\n",
      "Epoch 39/100\n",
      "123/123 [==============================] - 0s 2ms/step - loss: 0.2571 - accuracy: 0.9008 - val_loss: 0.2910 - val_accuracy: 0.8760\n",
      "Epoch 40/100\n",
      "123/123 [==============================] - 0s 2ms/step - loss: 0.2508 - accuracy: 0.9023 - val_loss: 0.2909 - val_accuracy: 0.8801\n",
      "Epoch 41/100\n",
      "123/123 [==============================] - 0s 2ms/step - loss: 0.2564 - accuracy: 0.8977 - val_loss: 0.2821 - val_accuracy: 0.8841\n",
      "Epoch 42/100\n",
      "123/123 [==============================] - 0s 2ms/step - loss: 0.2496 - accuracy: 0.9003 - val_loss: 0.2704 - val_accuracy: 0.8902\n",
      "Epoch 43/100\n",
      "123/123 [==============================] - 0s 2ms/step - loss: 0.2504 - accuracy: 0.9074 - val_loss: 0.2832 - val_accuracy: 0.8862\n",
      "Epoch 44/100\n",
      "123/123 [==============================] - 0s 2ms/step - loss: 0.2435 - accuracy: 0.9069 - val_loss: 0.2734 - val_accuracy: 0.8943\n",
      "Epoch 45/100\n",
      "123/123 [==============================] - 0s 2ms/step - loss: 0.2416 - accuracy: 0.9079 - val_loss: 0.2853 - val_accuracy: 0.8882\n",
      "Epoch 46/100\n",
      "123/123 [==============================] - 0s 2ms/step - loss: 0.2371 - accuracy: 0.9089 - val_loss: 0.2707 - val_accuracy: 0.8862\n",
      "Epoch 47/100\n",
      "123/123 [==============================] - 0s 2ms/step - loss: 0.2331 - accuracy: 0.9064 - val_loss: 0.2863 - val_accuracy: 0.8902\n",
      "Epoch 48/100\n",
      "123/123 [==============================] - 0s 2ms/step - loss: 0.2290 - accuracy: 0.9120 - val_loss: 0.2589 - val_accuracy: 0.8923\n",
      "Epoch 49/100\n",
      "123/123 [==============================] - 0s 2ms/step - loss: 0.2306 - accuracy: 0.9120 - val_loss: 0.2729 - val_accuracy: 0.8943\n"
     ]
    }
   ],
   "source": [
    "# Train model\n",
    "history = model.fit(\n",
    "    X_train, y_train,\n",
    "    epochs=100,\n",
    "    batch_size=16,\n",
    "    validation_split=0.2,\n",
    "    callbacks=[early_stop]\n",
    ")"
   ]
  },
  {
   "cell_type": "code",
   "execution_count": 13,
   "id": "c37d5550",
   "metadata": {},
   "outputs": [
    {
     "name": "stdout",
     "output_type": "stream",
     "text": [
      "20/20 [==============================] - 0s 1ms/step\n",
      "Akurasi: 0.8861788617886179\n",
      "[[365  47]\n",
      " [ 23 180]]\n",
      "              precision    recall  f1-score   support\n",
      "\n",
      "           0       0.94      0.89      0.91       412\n",
      "           1       0.79      0.89      0.84       203\n",
      "\n",
      "    accuracy                           0.89       615\n",
      "   macro avg       0.87      0.89      0.87       615\n",
      "weighted avg       0.89      0.89      0.89       615\n",
      "\n"
     ]
    }
   ],
   "source": [
    "# Evaluate model\n",
    "y_pred_prob = model.predict(X_test)\n",
    "y_pred = (y_pred_prob > 0.4).astype(int)\n",
    "\n",
    "print(\"Akurasi:\", accuracy_score(y_test, y_pred))\n",
    "print(confusion_matrix(y_test, y_pred))\n",
    "print(classification_report(y_test, y_pred))"
   ]
  },
  {
   "cell_type": "code",
   "execution_count": 14,
   "id": "18a580b7",
   "metadata": {},
   "outputs": [
    {
     "name": "stdout",
     "output_type": "stream",
     "text": [
      "20/20 [==============================] - 0s 1ms/step\n"
     ]
    },
    {
     "data": {
      "image/png": "[encoded data removed]",
      "text/plain": [
       "<Figure size 800x550 with 1 Axes>"
      ]
     },
     "metadata": {},
     "output_type": "display_data"
    }
   ],
   "source": [
    "\n",
    "\n",
    "y_prob = model.predict(X_test).ravel()\n",
    "fpr, tpr, _ = roc_curve(y_test, y_prob)\n",
    "roc_auc = auc(fpr, tpr)\n",
    "\n",
    "plt.figure()\n",
    "plt.plot(fpr, tpr, color='darkorange', label=f'ROC curve (area = {roc_auc:.2f})')\n",
    "plt.plot([0, 1], [0, 1], color='navy', linestyle='--')\n",
    "plt.xlabel('False Positive Rate')\n",
    "plt.ylabel('True Positive Rate')\n",
    "plt.title('Receiver Operating Characteristic')\n",
    "plt.legend()\n",
    "plt.grid()\n",
    "plt.show()\n"
   ]
  },
  {
   "cell_type": "code",
   "execution_count": 19,
   "id": "3a8fa515",
   "metadata": {},
   "outputs": [
    {
     "name": "stderr",
     "output_type": "stream",
     "text": [
      "C:\\Users\\COMPUTER WISA\\AppData\\Local\\Packages\\PythonSoftwareFoundation.Python.3.10_qbz5n2kfra8p0\\LocalCache\\local-packages\\Python310\\site-packages\\keras\\src\\engine\\training.py:3103: UserWarning: You are saving your model as an HDF5 file via `model.save()`. This file format is considered legacy. We recommend using instead the native Keras format, e.g. `model.save('my_model.keras')`.\n",
      "  saving_api.save_model(\n"
     ]
    },
    {
     "data": {
      "text/plain": [
       "['saved_model/cnn_scaler.pkl']"
      ]
     },
     "execution_count": 19,
     "metadata": {},
     "output_type": "execute_result"
    }
   ],
   "source": [
    "model.save(\"saved_model/cnn_model.h5\")\n",
    "joblib.dump(scaler, 'saved_model/cnn_scaler.pkl')\n"
   ]
  },
  {
   "cell_type": "code",
   "execution_count": 20,
   "id": "9ca2aae5",
   "metadata": {},
   "outputs": [
    {
     "name": "stdout",
     "output_type": "stream",
     "text": [
      "1/1 [==============================] - 0s 56ms/step\n",
      "Data ke-1 -> Probabilitas Diabetes: 12.61%\n",
      "Data ke-2 -> Probabilitas Diabetes: 42.37%\n",
      "Data ke-3 -> Probabilitas Diabetes: 19.85%\n",
      "Data ke-4 -> Probabilitas Diabetes: 15.10%\n",
      "Data ke-5 -> Probabilitas Diabetes: 88.33%\n"
     ]
    }
   ],
   "source": [
    "\n",
    "model = load_model(\"saved_model/cnn_model.h5\")\n",
    "scaler = joblib.load(\"saved_model/cnn_scaler.pkl\")\n",
    "# Data input\n",
    "user_input = pd.DataFrame([\n",
    "    {'Pregnancies': 3, 'Glucose': 78, 'BloodPressure': 50, 'SkinThickness': 32, 'Insulin': 88, 'BMI': 31.0, 'DiabetesPedigreeFunction': 0.848, 'Age': 26},\n",
    "    {'Pregnancies': 1, 'Glucose': 165, 'BloodPressure': 69, 'SkinThickness': 8,  'Insulin': 68, 'BMI': 23.9, 'DiabetesPedigreeFunction': 0.66,  'Age': 22},\n",
    "    {'Pregnancies': 5, 'Glucose': 115, 'BloodPressure': 72, 'SkinThickness': 35, 'Insulin': 130, 'BMI': 36.2, 'DiabetesPedigreeFunction': 0.35, 'Age': 40},\n",
    "    {'Pregnancies': 9, 'Glucose': 120, 'BloodPressure': 72, 'SkinThickness': 22, 'Insulin': 56,  'BMI': 20.8, 'DiabetesPedigreeFunction': 0.733,   'Age': 48},\n",
    "    {'Pregnancies': 4, 'Glucose': 180, 'BloodPressure': 85, 'SkinThickness': 29, 'Insulin': 150, 'BMI': 34.3, 'DiabetesPedigreeFunction': 0.2, 'Age': 33},\n",
    "])\n",
    "\n",
    "# Transform log\n",
    "cols_to_log = [\"Insulin\", \"DiabetesPedigreeFunction\", \"Age\", \"Pregnancies\"]\n",
    "for col in cols_to_log:\n",
    "    user_input[col] = np.log1p(user_input[col])\n",
    "\n",
    "# Tambahkan dummy column agar jumlah fitur = 9 (sama seperti saat training)\n",
    "user_input['dummy_0'] = 0\n",
    "\n",
    "# Urutkan kolom agar sesuai dengan training\n",
    "ordered_columns = ['Pregnancies', 'Glucose', 'BloodPressure', 'SkinThickness', 'Insulin',\n",
    "                   'BMI', 'DiabetesPedigreeFunction', 'Age', 'dummy_0']\n",
    "user_input = user_input[ordered_columns]\n",
    "\n",
    "# Scaling\n",
    "user_input_scaled = scaler.transform(user_input)\n",
    "\n",
    "# Reshape ke format CNN\n",
    "user_input_reshaped = user_input_scaled.reshape(-1, 3, 3, 1)\n",
    "\n",
    "# Load dan prediksi\n",
    "\n",
    "predictions = model.predict(user_input_reshaped)\n",
    "\n",
    "# Tampilkan hasil\n",
    "for i, p in enumerate(predictions):\n",
    "    print(f\"Data ke-{i+1} -> Probabilitas Diabetes: {p[0]*100:.2f}%\")\n"
   ]
  },
  {
   "cell_type": "code",
   "execution_count": null,
   "id": "289a39f5",
   "metadata": {},
   "outputs": [],
   "source": []
  },
  {
   "cell_type": "code",
   "execution_count": null,
   "id": "697813cd",
   "metadata": {},
   "outputs": [],
   "source": []
  },
  {
   "cell_type": "code",
   "execution_count": null,
   "id": "29f13e02",
   "metadata": {},
   "outputs": [],
   "source": []
  },
  {
   "cell_type": "code",
   "execution_count": null,
   "id": "e75faf87",
   "metadata": {},
   "outputs": [],
   "source": []
  },
  {
   "cell_type": "code",
   "execution_count": null,
   "id": "b2c24269",
   "metadata": {},
   "outputs": [],
   "source": []
  }
 ],
 "metadata": {
  "kernelspec": {
   "display_name": "Python 3",
   "language": "python",
   "name": "python3"
  },
  "language_info": {
   "codemirror_mode": {
    "name": "ipython",
    "version": 3
   },
   "file_extension": ".py",
   "mimetype": "text/x-python",
   "name": "python",
   "nbconvert_exporter": "python",
   "pygments_lexer": "ipython3",
   "version": "3.10.11"
  }
 },
 "nbformat": 4,
 "nbformat_minor": 5
}
